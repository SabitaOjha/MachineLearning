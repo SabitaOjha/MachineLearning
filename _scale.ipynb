{
  "nbformat": 4,
  "nbformat_minor": 0,
  "metadata": {
    "colab": {
      "provenance": [],
      "authorship_tag": "ABX9TyMgixMa/lrBog5EJuL/xa39",
      "include_colab_link": true
    },
    "kernelspec": {
      "name": "python3",
      "display_name": "Python 3"
    },
    "language_info": {
      "name": "python"
    }
  },
  "cells": [
    {
      "cell_type": "markdown",
      "metadata": {
        "id": "view-in-github",
        "colab_type": "text"
      },
      "source": [
        "<a href=\"https://colab.research.google.com/github/SabitaOjha/MachineLearning/blob/main/_scale.ipynb\" target=\"_parent\"><img src=\"https://colab.research.google.com/assets/colab-badge.svg\" alt=\"Open In Colab\"/></a>"
      ]
    },
    {
      "cell_type": "code",
      "execution_count": null,
      "metadata": {
        "colab": {
          "base_uri": "https://localhost:8080/"
        },
        "id": "28DnE3Gl4iRI",
        "outputId": "885d0ea7-5e1f-46a6-83f6-fab57a74245f"
      },
      "outputs": [
        {
          "output_type": "stream",
          "name": "stdout",
          "text": [
            "Original data\n",
            "   Salary  Age\n",
            "0   45000   42\n",
            "1   32000   26\n",
            "2   58000   48\n",
            "3   37000   32\n",
            "After normalization i.e. scaled data\n",
            "     Salary       Age\n",
            "0  0.176318  0.506803\n",
            "1 -0.969750 -1.114967\n",
            "2  1.322386  1.114967\n",
            "3 -0.528954 -0.506803\n"
          ]
        }
      ],
      "source": [
        "#1.1 implementatin of standard scaler\n",
        "import numpy as np\n",
        "import pandas as pd\n",
        "class StandardNorm: \n",
        "  def scale(self,d):\n",
        "    for i in d.columns:\n",
        "      mean=d[i].mean()\n",
        "      sd=d[i].std()\n",
        "      d[i]=(d[i]-mean)/sd\n",
        "    return d\n",
        "data = pd.DataFrame([[45000,42],[32000,26],[58000,48],[37000,32]],columns=['Salary','Age'])\n",
        "print(\"Original data\")\n",
        "print(data)\n",
        "s=StandardNorm()\n",
        "df=s.scale(data)\n",
        "print(\"After normalization i.e. scaled data\")\n",
        "print(df)\n",
        "\n"
      ]
    },
    {
      "cell_type": "markdown",
      "source": [],
      "metadata": {
        "id": "QYKtUxAXG53T"
      }
    },
    {
      "cell_type": "code",
      "source": [
        "#1.2 implementation of min-max scaler\n",
        "import pandas as pd\n",
        "class MinMaxNorm:\n",
        "  def scale(self,d):\n",
        "    for i in d.columns:\n",
        "      min = d[i].min()\n",
        "      max = d[i].max()\n",
        "      d[i]=(d[i]-min)/(max-min)\n",
        "    return d\n",
        "data = pd.DataFrame([[45000,42],[32000,26],[58000,48],[37000,32]],columns=['Salary','Age'])\n",
        "print(\"Original data\")\n",
        "print(data)\n",
        "s=MinMaxNorm()\n",
        "print(\"Scaled data\")\n",
        "df=s.scale(data)\n",
        "print(df)\n"
      ],
      "metadata": {
        "colab": {
          "base_uri": "https://localhost:8080/"
        },
        "id": "RZta-xQUHJ75",
        "outputId": "26527c02-912b-4442-ad21-0a15f791485f"
      },
      "execution_count": null,
      "outputs": [
        {
          "output_type": "stream",
          "name": "stdout",
          "text": [
            "Original data\n",
            "   Salary  Age\n",
            "0   45000   42\n",
            "1   32000   26\n",
            "2   58000   48\n",
            "3   37000   32\n",
            "Scaled data\n",
            "     Salary       Age\n",
            "0  0.500000  0.727273\n",
            "1  0.000000  0.000000\n",
            "2  1.000000  1.000000\n",
            "3  0.192308  0.272727\n"
          ]
        }
      ]
    },
    {
      "cell_type": "code",
      "source": [
        "\n",
        "#Lab Bayesian Claassification\n",
        "weather=['Sunny','Sunny','Overcast','Rainy','Rainy','Rainy','Overcast','Sunny','Sunny', 'Rainy','Sunny','Overcast','Overcast','Rainy']\n",
        "temp=['Hot','Hot','Hot','Mild','Cool','Cool','Cool','Mild','Cool','Mild','Mild','Mild','Hot','Mild']\n",
        "humidity=['High','High','High','High','Normal','Normal','Normal','High','Normal','Normal','Normal','High','Normal','High']\n",
        "wind=['Weak','Strong','Weak','Weak','Weak','Strong','Strong','Weak','Weak','Weak','Strong','Strong','Weak','Strong']\n",
        "play=['No','No','Yes','Yes','Yes','No','Yes','No','Yes','Yes','Yes','Yes','Yes','No']\n",
        "\n",
        "\n",
        "from sklearn import preprocessing\n",
        "le = preprocessing.LabelEncoder()\n",
        "w = le.fit_transform(weather)\n",
        "t = le.fit_transform(temp)\n",
        "h = le.fit_transform(wind)\n",
        "wn = le.fit_transform(humidity)\n",
        "p = le.fit_transform(play)\n",
        "features = zip(w,t,h,wn)\n",
        "inp = list(features)\n",
        "print(\"Encoded features:\", inp)\n",
        "print(\"Actual target:\", p)\n",
        "\n",
        "from sklearn.naive_bayes import GaussianNB\n",
        "model = GaussianNB()\n",
        "model.fit(inp,p)\n",
        "predicted = model.predict([[2,0,1,0]])\n",
        "print(\"predicted output is:\", predicted)\n",
        "\n",
        "\n",
        "\n",
        "\n"
      ],
      "metadata": {
        "colab": {
          "base_uri": "https://localhost:8080/"
        },
        "id": "FRa25_yEImr7",
        "outputId": "fa0e52be-996f-40f4-a773-754186dfed8a"
      },
      "execution_count": null,
      "outputs": [
        {
          "output_type": "stream",
          "name": "stdout",
          "text": [
            "Encoded features: [(2, 1, 1, 0), (2, 1, 0, 0), (0, 1, 1, 0), (1, 2, 1, 0), (1, 0, 1, 1), (1, 0, 0, 1), (0, 0, 0, 1), (2, 2, 1, 0), (2, 0, 1, 1), (1, 2, 1, 1), (2, 2, 0, 1), (0, 2, 0, 0), (0, 1, 1, 1), (1, 2, 0, 0)]\n",
            "Actual target: [0 0 1 1 1 0 1 0 1 1 1 1 1 0]\n",
            "predicted output is: [0]\n"
          ]
        }
      ]
    }
  ]
}